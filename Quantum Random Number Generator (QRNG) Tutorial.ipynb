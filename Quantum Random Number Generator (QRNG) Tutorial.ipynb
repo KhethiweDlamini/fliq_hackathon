{
 "cells": [
  {
   "cell_type": "markdown",
   "id": "30dd4830",
   "metadata": {},
   "source": [
    "🧪 Quantum Random Number Generator (QRNG) – Step-by-Step Tutorial\n",
    "\n",
    "🎯 Objective:\n",
    "Use a simple quantum circuit to generate true randomness using quantum mechanics. We'll construct a quantum random number generator (QRNG) using Qiskit and run it both on a simulator and real IBM quantum hardware."
   ]
  },
  {
   "cell_type": "code",
   "execution_count": null,
   "id": "d9566180-306d-4735-bddb-e606e358d77a",
   "metadata": {},
   "outputs": [],
   "source": []
  }
 ],
 "metadata": {
  "kernelspec": {
   "display_name": "Python 3 (ipykernel)",
   "language": "python",
   "name": "python3"
  },
  "language_info": {
   "codemirror_mode": {
    "name": "ipython",
    "version": 3
   },
   "file_extension": ".py",
   "mimetype": "text/x-python",
   "name": "python",
   "nbconvert_exporter": "python",
   "pygments_lexer": "ipython3",
   "version": "3.13.0"
  }
 },
 "nbformat": 4,
 "nbformat_minor": 5
}
