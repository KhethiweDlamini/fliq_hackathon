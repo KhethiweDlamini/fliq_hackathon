{
 "cells": [
  {
   "cell_type": "code",
   "execution_count": null,
   "id": "2a68fe03",
   "metadata": {},
   "outputs": [],
   "source": [
    "%pip install qiskit"
   ]
  },
  {
   "cell_type": "code",
   "execution_count": null,
   "id": "a218d3a6",
   "metadata": {},
   "outputs": [],
   "source": [
    "from qiskit import QuantumCircuit\n",
    "from qiskit_aer import Aer, AerSimulator\n",
    "from qiskit import transpile \n",
    "from qiskit.visualization import plot_histogram\n",
    "import matplotlib.pyplot as plt\n",
    "\n",
    "# Create a quantum circuit with 1 qubit and 1 classical bit\n",
    "qc = QuantumCircuit(1, 1)\n",
    "\n",
    "# Apply a Hadamard gate to put the qubit into superposition\n",
    "qc.h(0)\n",
    "\n",
    "# Measure the qubit\n",
    "qc.measure(0, 0)\n",
    "\n",
    "# Execute the circuit on the Aer simulator\n",
    "simulator = AerSimulator()\n",
    "compiled_citcuit = transpile(qc, simulator)\n",
    "# Run the circuit\n",
    "job = simulator.run(compiled_citcuit)\n",
    "result = job.result()\n",
    "\n",
    "# Get the counts (number of times each result occurred)\n",
    "counts = result.get_counts(qc)\n",
    "\n",
    "# Plot the results\n",
    "plot_histogram(counts)\n",
    "plt.show(block=False)"
   ]
  },
  {
   "cell_type": "markdown",
   "id": "0c294457",
   "metadata": {},
   "source": []
  }
 ],
 "metadata": {
  "kernelspec": {
   "display_name": "qiskit_env",
   "language": "python",
   "name": "python3"
  },
  "language_info": {
   "codemirror_mode": {
    "name": "ipython",
    "version": 3
   },
   "file_extension": ".py",
   "mimetype": "text/x-python",
   "name": "python",
   "nbconvert_exporter": "python",
   "pygments_lexer": "ipython3",
   "version": "3.13.0"
  }
 },
 "nbformat": 4,
 "nbformat_minor": 5
}
