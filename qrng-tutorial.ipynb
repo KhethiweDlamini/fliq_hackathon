{
 "cells": [
  {
   "cell_type": "markdown",
   "id": "6696efed",
   "metadata": {},
   "source": [
    "# 🧪 Quantum Random Number Generator (QRNG)\n",
    "**Team Members:** Khethiwe Dlamini  \n",
    "**Date:** 2025-05-18\n",
    "\n",
    "---\n",
    "\n",
    "🎯 **Objective:** In this tutorial, we through a quantum experiment called a quantum random number generator (QRNG for short). We will build a QRNG using Qiskit, run it on both a simulator and real IBM Quantum hardware, and then analyze our results with fun visualizations! "
   ]
  },
  {
   "cell_type": "markdown",
   "id": "d83964d4",
   "metadata": {},
   "source": [
    "# Step 1: Understanding Randomness\n",
    "## What is randomness?\n",
    "Randomness refers to the lack of pattern or predictability. In classical systems, random numbers are often generated using algorithms (pseudo-random), but these can be predicted if the initial conditions (seed) are known (referece).\n",
    "\n",
    "## Why is quantum randomness special?\n",
    "In quantum mechanics, certain measurements are fundamentally unpredictable. For example, if we prepare a qubit in a superposition state and measure it, the result is intrinsically random — not due to lack of knowledge, but due to the nature of quantum physics itself (reference)."
   ]
  },
  {
   "cell_type": "markdown",
   "id": "d89e9267",
   "metadata": {},
   "source": [
    "# Step 2: The Math Behind QRNG\n",
    "Let’s break this down in simple terms:\n",
    "\n",
    "A **qubit** has two basis states:  $$\\lvert 0 \\rangle \\quad \\text{and} \\quad \\lvert 1 \\rangle $$\n",
    "\n",
    "Applying a **Hadamard (H) gate** to  $$\\lvert 0 \\rangle \\quad $$  puts it into a **superposition**: \n",
    "$$\n",
    "\\lvert 0 \\rangle = \\frac{1}{\\sqrt{2}} \\left( \\lvert 0 \\rangle + \\lvert 1 \\rangle \\right)\n",
    "$$\n",
    "\n",
    "When we **measure** this state, quantum mechanics tells us we’ll get:\n",
    "\n",
    "- 0 with **50% probability**  \n",
    "- 1 with **50% probability**\n",
    "\n",
    "Thus, we can use repeated measurements of this superposition to generate **random bits**."
   ]
  },
  {
   "cell_type": "markdown",
   "id": "49f8e9de",
   "metadata": {},
   "source": [
    "### Common Confusions (Anticipated & Addressed)\n",
    "\n",
    "| Confusion | Clarification |\n",
    "|-----------|---------------|\n",
    "| **“How is this different from a coin toss?”** | A coin toss is classical — it's determined by physics, even if unpredictable in practice. Quantum measurement is inherently probabilistic. |\n",
    "| **“Why do I need a Hadamard gate?”** | Without it, the qubit stays in state \\(\\lvert 0 \\rangle\\). The Hadamard gate creates the necessary superposition for randomness. |\n",
    "| **“Why do results vary?”** | Quantum randomness is real — each run gives different outcomes. You should expect slightly uneven results due to statistical fluctuations. |\n",
    "| **“Why does real hardware show bias?”** | Quantum devices are noisy; real-world errors (gate fidelity, decoherence) can skew ideal outcomes slightly. We’ll explore this in the hardware section. |\n"
   ]
  },
  {
   "cell_type": "markdown",
   "id": "e8c7aa99",
   "metadata": {},
   "source": [
    "# Step 3: Let's build the Circuit 🛠️"
   ]
  },
  {
   "cell_type": "markdown",
   "id": "1fe29561",
   "metadata": {},
   "source": [
    "Installations and Set-up"
   ]
  },
  {
   "cell_type": "code",
   "execution_count": null,
   "id": "362f5ee9",
   "metadata": {},
   "outputs": [],
   "source": [
    "%pip install \"qiskit<2.0.0\" qiskit-aer qiskit-ibm-provider matplotlib"
   ]
  },
  {
   "cell_type": "markdown",
   "id": "f6d57f08",
   "metadata": {},
   "source": [
    "# Imports"
   ]
  },
  {
   "cell_type": "code",
   "execution_count": 2,
   "id": "351c43d1",
   "metadata": {},
   "outputs": [
    {
     "name": "stderr",
     "output_type": "stream",
     "text": [
      "C:\\Users\\Khetiwe Dlamini\\AppData\\Local\\Temp\\ipykernel_25736\\2670552050.py:3: DeprecationWarning: The package qiskit_ibm_provider is being deprecated. Please see https://docs.quantum.ibm.com/api/migration-guides/qiskit-runtime to get instructions on how to migrate to qiskit-ibm-runtime (https://github.com/Qiskit/qiskit-ibm-runtime).\n",
      "  from qiskit_ibm_provider import IBMProvider, Session\n"
     ]
    },
    {
     "ename": "ModuleNotFoundError",
     "evalue": "No module named 'matplotlib'",
     "output_type": "error",
     "traceback": [
      "\u001b[31m---------------------------------------------------------------------------\u001b[39m",
      "\u001b[31mModuleNotFoundError\u001b[39m                       Traceback (most recent call last)",
      "\u001b[36mCell\u001b[39m\u001b[36m \u001b[39m\u001b[32mIn[2]\u001b[39m\u001b[32m, line 6\u001b[39m\n\u001b[32m      4\u001b[39m \u001b[38;5;28;01mfrom\u001b[39;00m\u001b[38;5;250m \u001b[39m\u001b[34;01mqiskit\u001b[39;00m\u001b[34;01m.\u001b[39;00m\u001b[34;01mprimitives\u001b[39;00m\u001b[38;5;250m \u001b[39m\u001b[38;5;28;01mimport\u001b[39;00m StatevectorSampler\n\u001b[32m      5\u001b[39m \u001b[38;5;28;01mfrom\u001b[39;00m\u001b[38;5;250m \u001b[39m\u001b[34;01mqiskit\u001b[39;00m\u001b[34;01m.\u001b[39;00m\u001b[34;01mvisualization\u001b[39;00m\u001b[38;5;250m \u001b[39m\u001b[38;5;28;01mimport\u001b[39;00m plot_histogram\n\u001b[32m----> \u001b[39m\u001b[32m6\u001b[39m \u001b[38;5;28;01mimport\u001b[39;00m\u001b[38;5;250m \u001b[39m\u001b[34;01mmatplotlib\u001b[39;00m\u001b[34;01m.\u001b[39;00m\u001b[34;01mpyplot\u001b[39;00m\u001b[38;5;250m \u001b[39m\u001b[38;5;28;01mas\u001b[39;00m\u001b[38;5;250m \u001b[39m\u001b[34;01mplt\u001b[39;00m\n\u001b[32m      7\u001b[39m get_ipython().run_line_magic(\u001b[33m'\u001b[39m\u001b[33mmatplotlib\u001b[39m\u001b[33m'\u001b[39m, \u001b[33m'\u001b[39m\u001b[33minline\u001b[39m\u001b[33m'\u001b[39m)\n",
      "\u001b[31mModuleNotFoundError\u001b[39m: No module named 'matplotlib'"
     ]
    }
   ],
   "source": [
    "from qiskit import QuantumCircuit, transpile\n",
    "from qiskit_aer import Aer, AerSimulator\n",
    "from qiskit_ibm_provider import IBMProvider, Session\n",
    "from qiskit.primitives import StatevectorSampler\n",
    "from qiskit.visualization import plot_histogram\n",
    "import matplotlib.pyplot as plt\n",
    "%matplotlib inline"
   ]
  },
  {
   "cell_type": "code",
   "execution_count": null,
   "id": "6ca72e80",
   "metadata": {},
   "outputs": [
    {
     "ename": "NameError",
     "evalue": "name 'qiskit' is not defined",
     "output_type": "error",
     "traceback": [
      "\u001b[31m---------------------------------------------------------------------------\u001b[39m",
      "\u001b[31mNameError\u001b[39m                                 Traceback (most recent call last)",
      "\u001b[36mCell\u001b[39m\u001b[36m \u001b[39m\u001b[32mIn[3]\u001b[39m\u001b[32m, line 1\u001b[39m\n\u001b[32m----> \u001b[39m\u001b[32m1\u001b[39m \u001b[38;5;28mprint\u001b[39m(\u001b[33m\"\u001b[39m\u001b[33mqiskit:\u001b[39m\u001b[33m\"\u001b[39m, \u001b[43mqiskit\u001b[49m.__version__)\n\u001b[32m      2\u001b[39m \u001b[38;5;28;01mimport\u001b[39;00m\u001b[38;5;250m \u001b[39m\u001b[34;01mqiskit_ibm_provider\u001b[39;00m\n\u001b[32m      3\u001b[39m \u001b[38;5;28mprint\u001b[39m(\u001b[33m\"\u001b[39m\u001b[33mqiskit-ibm-provider:\u001b[39m\u001b[33m\"\u001b[39m, qiskit_ibm_provider.__version__)\n",
      "\u001b[31mNameError\u001b[39m: name 'qiskit' is not defined"
     ]
    }
   ],
   "source": [
    "print(\"qiskit:\", qiskit.__version__)\n",
    "import qiskit_ibm_provider\n",
    "print(\"qiskit-ibm-provider:\", qiskit_ibm_provider.__version__)"
   ]
  },
  {
   "cell_type": "code",
   "execution_count": null,
   "id": "ca9403b7",
   "metadata": {},
   "outputs": [
    {
     "data": {
      "image/png": "[encoded data removed]",
      "text/plain": [
       "<Figure size 269.064x200.667 with 1 Axes>"
      ]
     },
     "metadata": {},
     "output_type": "display_data"
    }
   ],
   "source": [
    "# Step 1: Create a 1-qubit quantum circuit with 1 classical bit\n",
    "qc = QuantumCircuit(1, 1)\n",
    "\n",
    "# Step 2: Apply Hadamard gate to put the qubit in superposition\n",
    "qc.h(0)\n",
    "\n",
    "# Step 3: Measure the qubit\n",
    "qc.measure(0, 0)\n",
    "\n",
    "# Visualize the circuit\n",
    "fig = qc.draw('mpl')\n",
    "plt.show() "
   ]
  },
  {
   "cell_type": "markdown",
   "id": "dd632202",
   "metadata": {},
   "source": [
    "# Executing the Circuit on a Simulator\n",
    "Let’s test the QRNG on a noiseless simulator."
   ]
  },
  {
   "cell_type": "code",
   "execution_count": null,
   "id": "3cc2d6a5",
   "metadata": {},
   "outputs": [
    {
     "name": "stdout",
     "output_type": "stream",
     "text": [
      "Measurement results: {'0': 512, '1': 512}\n"
     ]
    },
    {
     "data": {
      "image/png": "[encoded data removed]",
      "text/plain": [
       "<Figure size 640x480 with 1 Axes>"
      ]
     },
     "metadata": {},
     "output_type": "display_data"
    }
   ],
   "source": [
    "# Use Aer's simulator\n",
    "simulator = AerSimulator()\n",
    "\n",
    "# Assemble and execute the circuit\n",
    "compiled_circuit = transpile(qc, simulator)\n",
    "job = simulator.run(compiled_circuit)\n",
    "result = job.result()\n",
    "\n",
    "# Get and plot the counts\n",
    "counts = result.get_counts(qc)\n",
    "print(\"Measurement results:\", counts)\n",
    "plot_histogram(counts)\n",
    "plt.show()"
   ]
  },
  {
   "cell_type": "markdown",
   "id": "13d7cc34",
   "metadata": {},
   "source": [
    "# IBM Quantum Execution"
   ]
  },
  {
   "cell_type": "code",
   "execution_count": null,
   "id": "639f162c",
   "metadata": {},
   "outputs": [
    {
     "name": "stdout",
     "output_type": "stream",
     "text": [
      "ibm_sherbrooke\n",
      "ibm_brisbane\n"
     ]
    }
   ],
   "source": [
    "provider = IBMProvider()\n",
    "for backend in provider.backends():\n",
    "    print(backend.name) #Before selecting a backend, always list the available ones for your account"
   ]
  },
  {
   "cell_type": "code",
   "execution_count": null,
   "id": "a57bc4e2",
   "metadata": {},
   "outputs": [
    {
     "name": "stdout",
     "output_type": "stream",
     "text": [
      "{0: 0.4999999999999999, 1: 0.4999999999999999}\n"
     ]
    },
    {
     "name": "stderr",
     "output_type": "stream",
     "text": [
      "C:\\Users\\Khetiwe Dlamini\\AppData\\Local\\Temp\\ipykernel_13660\\4131516758.py:9: DeprecationWarning: The class ``qiskit.primitives.sampler.Sampler`` is deprecated as of qiskit 1.2. It will be removed no earlier than 3 months after the release date. All implementations of the `BaseSamplerV1` interface have been deprecated in favor of their V2 counterparts. The V2 alternative for the `Sampler` class is `StatevectorSampler`.\n",
      "  sampler = Sampler()\n"
     ]
    }
   ],
   "source": [
    "backend = provider.get_backend(\"ibm_brisbane\")\n",
    "# Build your circuit\n",
    "qc = QuantumCircuit(1, 1)\n",
    "qc.h(0)\n",
    "qc.measure(0, 0)\n",
    "\n",
    "# Use Sampler primitive\n",
    "sampler = StatevectorSampler()\n",
    "result = sampler.run(qc).result()\n",
    "quasi_dist = result.quasi_dists[0]\n",
    "# Convert to plain floats:\n",
    "print({k: round(float(v),2) for k, v in quasi_dist.items()})"
   ]
  }
 ],
 "metadata": {
  "kernelspec": {
   "display_name": "Python 3",
   "language": "python",
   "name": "python3"
  },
  "language_info": {
   "codemirror_mode": {
    "name": "ipython",
    "version": 3
   },
   "file_extension": ".py",
   "mimetype": "text/x-python",
   "name": "python",
   "nbconvert_exporter": "python",
   "pygments_lexer": "ipython3",
   "version": "3.11.9"
  }
 },
 "nbformat": 4,
 "nbformat_minor": 5
}
