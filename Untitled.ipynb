{
 "cells": [
  {
   "cell_type": "markdown",
   "id": "6696efed",
   "metadata": {},
   "source": [
    "#🧪 Quantum Random Number Generator (QRNG) – Step-by-Step Tutorial\n",
    "🎯 Objective:\n",
    "Use a simple quantum circuit to generate true randomness using quantum mechanics. We'll construct a quantum random number generator (QRNG) using Qiskit and run it both on a simulator and real IBM quantum hardware."
   ]
  },
  {
   "cell_type": "markdown",
   "id": "d83964d4",
   "metadata": {},
   "source": [
    "# Step 1: Understanding Randomness\n",
    "## What is randomness?\n",
    "Randomness refers to the lack of pattern or predictability. In classical systems, random numbers are often generated using algorithms (pseudo-random), but these can be predicted if the initial conditions (seed) are known (referece).\n",
    "\n",
    "## Why is quantum randomness special?\n",
    "In quantum mechanics, certain measurements are fundamentally unpredictable. For example, if we prepare a qubit in a superposition state and measure it, the result is intrinsically random — not due to lack of knowledge, but due to the nature of quantum physics itself (reference)."
   ]
  },
  {
   "cell_type": "markdown",
   "id": "d89e9267",
   "metadata": {},
   "source": [
    "# Step 2: The Math Behind QRNG\n",
    "Let’s break this down in simple terms:\n",
    "\n",
    "A **qubit** has two basis states:  $$\\lvert 0 \\rangle \\quad \\text{and} \\quad \\lvert 1 \\rangle $$\n",
    "\n",
    "Applying a **Hadamard (H) gate** to  $$\\lvert 0 \\rangle \\quad $$  puts it into a **superposition**: \n",
    "$$\n",
    "\\lvert 0 \\rangle = \\frac{1}{\\sqrt{2}} \\left( \\lvert 0 \\rangle + \\lvert 1 \\rangle \\right)\n",
    "$$\n",
    "\n",
    "When we **measure** this state, quantum mechanics tells us we’ll get:\n",
    "\n",
    "- 0 with **50% probability**  \n",
    "- 1 with **50% probability**\n",
    "\n",
    "Thus, we can use repeated measurements of this superposition to generate **random bits**."
   ]
  },
  {
   "cell_type": "markdown",
   "id": "49f8e9de",
   "metadata": {},
   "source": [
    "### Common Confusions (Anticipated & Addressed)\n",
    "\n",
    "| Confusion | Clarification |\n",
    "|-----------|---------------|\n",
    "| **“How is this different from a coin toss?”** | A coin toss is classical — it's determined by physics, even if unpredictable in practice. Quantum measurement is inherently probabilistic. |\n",
    "| **“Why do I need a Hadamard gate?”** | Without it, the qubit stays in state \\(\\lvert 0 \\rangle\\). The Hadamard gate creates the necessary superposition for randomness. |\n",
    "| **“Why do results vary?”** | Quantum randomness is real — each run gives different outcomes. You should expect slightly uneven results due to statistical fluctuations. |\n",
    "| **“Why does real hardware show bias?”** | Quantum devices are noisy; real-world errors (gate fidelity, decoherence) can skew ideal outcomes slightly. We’ll explore this in the hardware section. |\n"
   ]
  },
  {
   "cell_type": "markdown",
   "id": "e8c7aa99",
   "metadata": {},
   "source": [
    "# Step 3: Let's build the Circuit 🛠️"
   ]
  },
  {
   "cell_type": "markdown",
   "id": "1fe29561",
   "metadata": {},
   "source": [
    "Installations and Set-up"
   ]
  },
  {
   "cell_type": "code",
   "execution_count": null,
   "id": "362f5ee9",
   "metadata": {},
   "outputs": [],
   "source": [
    "%pip install qiskit-aer\n",
    "%pip install qiskit-ibm-runtime"
   ]
  },
  {
   "cell_type": "markdown",
   "id": "fef4195f",
   "metadata": {},
   "source": [
    "pip install qiskit qiskit-ibm-provider --upgrade"
   ]
  },
  {
   "cell_type": "code",
   "execution_count": 9,
   "id": "31a7abfe-7bc4-4dfd-ac28-54fc4cf41e6d",
   "metadata": {},
   "outputs": [],
   "source": [
    "import qiskit"
   ]
  },
  {
   "cell_type": "code",
   "execution_count": 10,
   "id": "c7b06d7a",
   "metadata": {},
   "outputs": [
    {
     "name": "stdout",
     "output_type": "stream",
     "text": [
      "Qiskit version: 2.0.1\n"
     ]
    }
   ],
   "source": [
    "print(\"Qiskit version:\", qiskit.__version__)"
   ]
  },
  {
   "cell_type": "code",
   "execution_count": 16,
   "id": "49160fe8",
   "metadata": {},
   "outputs": [],
   "source": [
    "from qiskit import QuantumCircuit, transpile\n",
    "from qiskit_aer import Aer, AerSimulator\n",
    "from qiskit.visualization import plot_histogram\n",
    "import matplotlib.pyplot as plt"
   ]
  },
  {
   "cell_type": "code",
   "execution_count": 17,
   "id": "ca9403b7",
   "metadata": {},
   "outputs": [
    {
     "data": {
      "image/png": "[encoded data removed]",
      "text/plain": [
       "<Figure size 269.064x200.667 with 1 Axes>"
      ]
     },
     "execution_count": 17,
     "metadata": {},
     "output_type": "execute_result"
    }
   ],
   "source": [
    "# Step 1: Create a 1-qubit quantum circuit with 1 classical bit\n",
    "qc = QuantumCircuit(1, 1)\n",
    "\n",
    "# Step 2: Apply Hadamard gate to put the qubit in superposition\n",
    "qc.h(0)\n",
    "\n",
    "# Step 3: Measure the qubit\n",
    "qc.measure(0, 0)\n",
    "\n",
    "# Visualize the circuit\n",
    "qc.draw('mpl')"
   ]
  },
  {
   "cell_type": "markdown",
   "id": "dd632202",
   "metadata": {},
   "source": [
    "# Executing the Circuit on a Simulator\n",
    "Let’s test the QRNG on a noiseless simulator."
   ]
  },
  {
   "cell_type": "code",
   "execution_count": 18,
   "id": "3cc2d6a5",
   "metadata": {},
   "outputs": [
    {
     "name": "stdout",
     "output_type": "stream",
     "text": [
      "Measurement results: {'1': 512, '0': 512}\n"
     ]
    }
   ],
   "source": [
    "# Use Aer's simulator\n",
    "simulator = AerSimulator()\n",
    "\n",
    "# Assemble and execute the circuit\n",
    "compiled_circuit = transpile(qc, simulator)\n",
    "job = simulator.run(compiled_circuit)\n",
    "result = job.result()\n",
    "\n",
    "# Get and plot the counts\n",
    "counts = result.get_counts(qc)\n",
    "print(\"Measurement results:\", counts)"
   ]
  },
  {
   "cell_type": "code",
   "execution_count": 30,
   "id": "639f162c",
   "metadata": {},
   "outputs": [],
   "source": [
    "from qiskit_ibm_runtime import QiskitRuntimeService\n",
    "QiskitRuntimeService.save_account(channel=\"ibm_quantum\", token=\"c25376e43e3462db5c36d5b1923ab35b6d477dfe5587177e1920ab0425a05bb4a0b74c2d5235cfa287363cad47f8350ec44a3bacb6135df1926f80e60e35a37d\")"
   ]
  },
  {
   "cell_type": "markdown",
   "id": "4c783099",
   "metadata": {},
   "source": [
    "Connect to IBM Quantum Runtime"
   ]
  },
  {
   "cell_type": "code",
   "execution_count": 32,
   "id": "e95a1114",
   "metadata": {},
   "outputs": [
    {
     "name": "stderr",
     "output_type": "stream",
     "text": [
      "C:\\Users\\Khetiwe Dlamini\\AppData\\Local\\Temp\\ipykernel_7480\\300501879.py:1: DeprecationWarning: The \"ibm_quantum\" channel option is deprecated and will be sunset on 1 July. After this date, \"ibm_cloud\" and \"local\" will be the only valid channels. For information on migrating to the new IBM Quantum Platform on the \"ibm_cloud\" channel, review the migration guide https://quantum.cloud.ibm.com/docs/migration-guides/classic-iqp-to-cloud-iqp .\n",
      "  service = QiskitRuntimeService()\n"
     ]
    },
    {
     "name": "stdout",
     "output_type": "stream",
     "text": [
      "[<IBMBackend('ibm_brisbane')>, <IBMBackend('ibm_sherbrooke')>]\n"
     ]
    }
   ],
   "source": [
    "service = QiskitRuntimeService()\n",
    "print(service.backends())"
   ]
  },
  {
   "cell_type": "code",
   "execution_count": 33,
   "id": "3a1b4822",
   "metadata": {},
   "outputs": [
    {
     "name": "stderr",
     "output_type": "stream",
     "text": [
      "C:\\Users\\Khetiwe Dlamini\\AppData\\Local\\Temp\\ipykernel_7480\\511838815.py:1: DeprecationWarning: The \"ibm_quantum\" channel option is deprecated and will be sunset on 1 July. After this date, \"ibm_cloud\" and \"local\" will be the only valid channels. For information on migrating to the new IBM Quantum Platform on the \"ibm_cloud\" channel, review the migration guide https://quantum.cloud.ibm.com/docs/migration-guides/classic-iqp-to-cloud-iqp .\n",
      "  service = QiskitRuntimeService()\n"
     ]
    }
   ],
   "source": [
    "service = QiskitRuntimeService()\n",
    "backend = service.backend('ibm_brisbane')"
   ]
  },
  {
   "cell_type": "code",
   "execution_count": null,
   "id": "958d393c",
   "metadata": {},
   "outputs": [
    {
     "ename": "TranspilerError",
     "evalue": "'Invalid plugin name ibm_dynamic_circuits for stage translation'",
     "output_type": "error",
     "traceback": [
      "\u001b[31m---------------------------------------------------------------------------\u001b[39m",
      "\u001b[31mTranspilerError\u001b[39m                           Traceback (most recent call last)",
      "\u001b[36mCell\u001b[39m\u001b[36m \u001b[39m\u001b[32mIn[35]\u001b[39m\u001b[32m, line 2\u001b[39m\n\u001b[32m      1\u001b[39m \u001b[38;5;66;03m# Transpile and run\u001b[39;00m\n\u001b[32m----> \u001b[39m\u001b[32m2\u001b[39m transpiled = \u001b[43mtranspile\u001b[49m\u001b[43m(\u001b[49m\u001b[43mcompiled_circuit\u001b[49m\u001b[43m,\u001b[49m\u001b[43m \u001b[49m\u001b[43mbackend\u001b[49m\u001b[43m)\u001b[49m\n\u001b[32m      3\u001b[39m qobj = assemble(transpiled)\n\u001b[32m      4\u001b[39m job_ibm = backend.run(qobj)\n",
      "\u001b[36mFile \u001b[39m\u001b[32mc:\\Users\\Khetiwe Dlamini\\qiskit_env\\Lib\\site-packages\\qiskit\\compiler\\transpiler.py:269\u001b[39m, in \u001b[36mtranspile\u001b[39m\u001b[34m(circuits, backend, basis_gates, coupling_map, initial_layout, layout_method, routing_method, translation_method, scheduling_method, dt, approximation_degree, seed_transpiler, optimization_level, callback, output_name, unitary_synthesis_method, unitary_synthesis_plugin_config, target, hls_config, init_method, optimization_method, ignore_backend_supplied_default_methods, num_processes, qubits_initially_zero)\u001b[39m\n\u001b[32m    264\u001b[39m _check_circuits_coupling_map(circuits, coupling_map, backend)\n\u001b[32m    266\u001b[39m \u001b[38;5;66;03m# Edge cases require using the old model (loose constraints) instead of building a target,\u001b[39;00m\n\u001b[32m    267\u001b[39m \u001b[38;5;66;03m# but we don't populate the passmanager config with loose constraints unless it's one of\u001b[39;00m\n\u001b[32m    268\u001b[39m \u001b[38;5;66;03m# the known edge cases to control the execution path.\u001b[39;00m\n\u001b[32m--> \u001b[39m\u001b[32m269\u001b[39m pm = \u001b[43mgenerate_preset_pass_manager\u001b[49m\u001b[43m(\u001b[49m\n\u001b[32m    270\u001b[39m \u001b[43m    \u001b[49m\u001b[43moptimization_level\u001b[49m\u001b[43m,\u001b[49m\n\u001b[32m    271\u001b[39m \u001b[43m    \u001b[49m\u001b[43mtarget\u001b[49m\u001b[43m=\u001b[49m\u001b[43mtarget\u001b[49m\u001b[43m,\u001b[49m\n\u001b[32m    272\u001b[39m \u001b[43m    \u001b[49m\u001b[43mbackend\u001b[49m\u001b[43m=\u001b[49m\u001b[43mbackend\u001b[49m\u001b[43m,\u001b[49m\n\u001b[32m    273\u001b[39m \u001b[43m    \u001b[49m\u001b[43mbasis_gates\u001b[49m\u001b[43m=\u001b[49m\u001b[43mbasis_gates\u001b[49m\u001b[43m,\u001b[49m\n\u001b[32m    274\u001b[39m \u001b[43m    \u001b[49m\u001b[43mcoupling_map\u001b[49m\u001b[43m=\u001b[49m\u001b[43mcoupling_map\u001b[49m\u001b[43m,\u001b[49m\n\u001b[32m    275\u001b[39m \u001b[43m    \u001b[49m\u001b[43minitial_layout\u001b[49m\u001b[43m=\u001b[49m\u001b[43minitial_layout\u001b[49m\u001b[43m,\u001b[49m\n\u001b[32m    276\u001b[39m \u001b[43m    \u001b[49m\u001b[43mlayout_method\u001b[49m\u001b[43m=\u001b[49m\u001b[43mlayout_method\u001b[49m\u001b[43m,\u001b[49m\n\u001b[32m    277\u001b[39m \u001b[43m    \u001b[49m\u001b[43mrouting_method\u001b[49m\u001b[43m=\u001b[49m\u001b[43mrouting_method\u001b[49m\u001b[43m,\u001b[49m\n\u001b[32m    278\u001b[39m \u001b[43m    \u001b[49m\u001b[43mtranslation_method\u001b[49m\u001b[43m=\u001b[49m\u001b[43mtranslation_method\u001b[49m\u001b[43m,\u001b[49m\n\u001b[32m    279\u001b[39m \u001b[43m    \u001b[49m\u001b[43mscheduling_method\u001b[49m\u001b[43m=\u001b[49m\u001b[43mscheduling_method\u001b[49m\u001b[43m,\u001b[49m\n\u001b[32m    280\u001b[39m \u001b[43m    \u001b[49m\u001b[43mapproximation_degree\u001b[49m\u001b[43m=\u001b[49m\u001b[43mapproximation_degree\u001b[49m\u001b[43m,\u001b[49m\n\u001b[32m    281\u001b[39m \u001b[43m    \u001b[49m\u001b[43mseed_transpiler\u001b[49m\u001b[43m=\u001b[49m\u001b[43mseed_transpiler\u001b[49m\u001b[43m,\u001b[49m\n\u001b[32m    282\u001b[39m \u001b[43m    \u001b[49m\u001b[43munitary_synthesis_method\u001b[49m\u001b[43m=\u001b[49m\u001b[43munitary_synthesis_method\u001b[49m\u001b[43m,\u001b[49m\n\u001b[32m    283\u001b[39m \u001b[43m    \u001b[49m\u001b[43munitary_synthesis_plugin_config\u001b[49m\u001b[43m=\u001b[49m\u001b[43munitary_synthesis_plugin_config\u001b[49m\u001b[43m,\u001b[49m\n\u001b[32m    284\u001b[39m \u001b[43m    \u001b[49m\u001b[43mhls_config\u001b[49m\u001b[43m=\u001b[49m\u001b[43mhls_config\u001b[49m\u001b[43m,\u001b[49m\n\u001b[32m    285\u001b[39m \u001b[43m    \u001b[49m\u001b[43minit_method\u001b[49m\u001b[43m=\u001b[49m\u001b[43minit_method\u001b[49m\u001b[43m,\u001b[49m\n\u001b[32m    286\u001b[39m \u001b[43m    \u001b[49m\u001b[43moptimization_method\u001b[49m\u001b[43m=\u001b[49m\u001b[43moptimization_method\u001b[49m\u001b[43m,\u001b[49m\n\u001b[32m    287\u001b[39m \u001b[43m    \u001b[49m\u001b[43mdt\u001b[49m\u001b[43m=\u001b[49m\u001b[43mdt\u001b[49m\u001b[43m,\u001b[49m\n\u001b[32m    288\u001b[39m \u001b[43m    \u001b[49m\u001b[43mqubits_initially_zero\u001b[49m\u001b[43m=\u001b[49m\u001b[43mqubits_initially_zero\u001b[49m\u001b[43m,\u001b[49m\n\u001b[32m    289\u001b[39m \u001b[43m\u001b[49m\u001b[43m)\u001b[49m\n\u001b[32m    291\u001b[39m out_circuits = pm.run(circuits, callback=callback, num_processes=num_processes)\n\u001b[32m    293\u001b[39m \u001b[38;5;28;01mfor\u001b[39;00m name, circ \u001b[38;5;129;01min\u001b[39;00m \u001b[38;5;28mzip\u001b[39m(output_name, out_circuits):\n",
      "\u001b[36mFile \u001b[39m\u001b[32mc:\\Users\\Khetiwe Dlamini\\qiskit_env\\Lib\\site-packages\\qiskit\\transpiler\\preset_passmanagers\\generate_preset_pass_manager.py:310\u001b[39m, in \u001b[36mgenerate_preset_pass_manager\u001b[39m\u001b[34m(optimization_level, backend, target, basis_gates, coupling_map, initial_layout, layout_method, routing_method, translation_method, scheduling_method, approximation_degree, seed_transpiler, unitary_synthesis_method, unitary_synthesis_plugin_config, hls_config, init_method, optimization_method, dt, qubits_initially_zero, _skip_target)\u001b[39m\n\u001b[32m    308\u001b[39m     pm = level_1_pass_manager(pm_config)\n\u001b[32m    309\u001b[39m \u001b[38;5;28;01melif\u001b[39;00m optimization_level == \u001b[32m2\u001b[39m:\n\u001b[32m--> \u001b[39m\u001b[32m310\u001b[39m     pm = \u001b[43mlevel_2_pass_manager\u001b[49m\u001b[43m(\u001b[49m\u001b[43mpm_config\u001b[49m\u001b[43m)\u001b[49m\n\u001b[32m    311\u001b[39m \u001b[38;5;28;01melif\u001b[39;00m optimization_level == \u001b[32m3\u001b[39m:\n\u001b[32m    312\u001b[39m     pm = level_3_pass_manager(pm_config)\n",
      "\u001b[36mFile \u001b[39m\u001b[32mc:\\Users\\Khetiwe Dlamini\\qiskit_env\\Lib\\site-packages\\qiskit\\transpiler\\preset_passmanagers\\level2.py:76\u001b[39m, in \u001b[36mlevel_2_pass_manager\u001b[39m\u001b[34m(pass_manager_config)\u001b[39m\n\u001b[32m     74\u001b[39m     layout = \u001b[38;5;28;01mNone\u001b[39;00m\n\u001b[32m     75\u001b[39m     routing = \u001b[38;5;28;01mNone\u001b[39;00m\n\u001b[32m---> \u001b[39m\u001b[32m76\u001b[39m translation = \u001b[43mplugin_manager\u001b[49m\u001b[43m.\u001b[49m\u001b[43mget_passmanager_stage\u001b[49m\u001b[43m(\u001b[49m\n\u001b[32m     77\u001b[39m \u001b[43m    \u001b[49m\u001b[33;43m\"\u001b[39;49m\u001b[33;43mtranslation\u001b[39;49m\u001b[33;43m\"\u001b[39;49m\u001b[43m,\u001b[49m\u001b[43m \u001b[49m\u001b[43mtranslation_method\u001b[49m\u001b[43m,\u001b[49m\u001b[43m \u001b[49m\u001b[43mpass_manager_config\u001b[49m\u001b[43m,\u001b[49m\u001b[43m \u001b[49m\u001b[43moptimization_level\u001b[49m\u001b[43m=\u001b[49m\u001b[32;43m2\u001b[39;49m\n\u001b[32m     78\u001b[39m \u001b[43m\u001b[49m\u001b[43m)\u001b[49m\n\u001b[32m     80\u001b[39m optimization = plugin_manager.get_passmanager_stage(\n\u001b[32m     81\u001b[39m     \u001b[33m\"\u001b[39m\u001b[33moptimization\u001b[39m\u001b[33m\"\u001b[39m, optimization_method, pass_manager_config, optimization_level=\u001b[32m2\u001b[39m\n\u001b[32m     82\u001b[39m )\n\u001b[32m     84\u001b[39m sched = plugin_manager.get_passmanager_stage(\n\u001b[32m     85\u001b[39m     \u001b[33m\"\u001b[39m\u001b[33mscheduling\u001b[39m\u001b[33m\"\u001b[39m, scheduling_method, pass_manager_config, optimization_level=\u001b[32m2\u001b[39m\n\u001b[32m     86\u001b[39m )\n",
      "\u001b[36mFile \u001b[39m\u001b[32mc:\\Users\\Khetiwe Dlamini\\qiskit_env\\Lib\\site-packages\\qiskit\\transpiler\\preset_passmanagers\\plugin.py:246\u001b[39m, in \u001b[36mPassManagerStagePluginManager.get_passmanager_stage\u001b[39m\u001b[34m(self, stage_name, plugin_name, pm_config, optimization_level)\u001b[39m\n\u001b[32m    242\u001b[39m     \u001b[38;5;28;01mreturn\u001b[39;00m \u001b[38;5;28mself\u001b[39m._build_pm(\n\u001b[32m    243\u001b[39m         \u001b[38;5;28mself\u001b[39m.routing_plugins, stage_name, plugin_name, pm_config, optimization_level\n\u001b[32m    244\u001b[39m     )\n\u001b[32m    245\u001b[39m \u001b[38;5;28;01melif\u001b[39;00m stage_name == \u001b[33m\"\u001b[39m\u001b[33mtranslation\u001b[39m\u001b[33m\"\u001b[39m:\n\u001b[32m--> \u001b[39m\u001b[32m246\u001b[39m     \u001b[38;5;28;01mreturn\u001b[39;00m \u001b[38;5;28;43mself\u001b[39;49m\u001b[43m.\u001b[49m\u001b[43m_build_pm\u001b[49m\u001b[43m(\u001b[49m\n\u001b[32m    247\u001b[39m \u001b[43m        \u001b[49m\u001b[38;5;28;43mself\u001b[39;49m\u001b[43m.\u001b[49m\u001b[43mtranslation_plugins\u001b[49m\u001b[43m,\u001b[49m\u001b[43m \u001b[49m\u001b[43mstage_name\u001b[49m\u001b[43m,\u001b[49m\u001b[43m \u001b[49m\u001b[43mplugin_name\u001b[49m\u001b[43m,\u001b[49m\u001b[43m \u001b[49m\u001b[43mpm_config\u001b[49m\u001b[43m,\u001b[49m\u001b[43m \u001b[49m\u001b[43moptimization_level\u001b[49m\n\u001b[32m    248\u001b[39m \u001b[43m    \u001b[49m\u001b[43m)\u001b[49m\n\u001b[32m    249\u001b[39m \u001b[38;5;28;01melif\u001b[39;00m stage_name == \u001b[33m\"\u001b[39m\u001b[33moptimization\u001b[39m\u001b[33m\"\u001b[39m:\n\u001b[32m    250\u001b[39m     \u001b[38;5;28;01mreturn\u001b[39;00m \u001b[38;5;28mself\u001b[39m._build_pm(\n\u001b[32m    251\u001b[39m         \u001b[38;5;28mself\u001b[39m.optimization_plugins, stage_name, plugin_name, pm_config, optimization_level\n\u001b[32m    252\u001b[39m     )\n",
      "\u001b[36mFile \u001b[39m\u001b[32mc:\\Users\\Khetiwe Dlamini\\qiskit_env\\Lib\\site-packages\\qiskit\\transpiler\\preset_passmanagers\\plugin.py:269\u001b[39m, in \u001b[36mPassManagerStagePluginManager._build_pm\u001b[39m\u001b[34m(self, stage_obj, stage_name, plugin_name, pm_config, optimization_level)\u001b[39m\n\u001b[32m    260\u001b[39m \u001b[38;5;28;01mdef\u001b[39;00m\u001b[38;5;250m \u001b[39m\u001b[34m_build_pm\u001b[39m(\n\u001b[32m    261\u001b[39m     \u001b[38;5;28mself\u001b[39m,\n\u001b[32m    262\u001b[39m     stage_obj: stevedore.ExtensionManager,\n\u001b[32m   (...)\u001b[39m\u001b[32m    266\u001b[39m     optimization_level: Optional[\u001b[38;5;28mint\u001b[39m] = \u001b[38;5;28;01mNone\u001b[39;00m,\n\u001b[32m    267\u001b[39m ):\n\u001b[32m    268\u001b[39m     \u001b[38;5;28;01mif\u001b[39;00m plugin_name \u001b[38;5;129;01mnot\u001b[39;00m \u001b[38;5;129;01min\u001b[39;00m stage_obj:\n\u001b[32m--> \u001b[39m\u001b[32m269\u001b[39m         \u001b[38;5;28;01mraise\u001b[39;00m TranspilerError(\u001b[33mf\u001b[39m\u001b[33m\"\u001b[39m\u001b[33mInvalid plugin name \u001b[39m\u001b[38;5;132;01m{\u001b[39;00mplugin_name\u001b[38;5;132;01m}\u001b[39;00m\u001b[33m for stage \u001b[39m\u001b[38;5;132;01m{\u001b[39;00mstage_name\u001b[38;5;132;01m}\u001b[39;00m\u001b[33m\"\u001b[39m)\n\u001b[32m    270\u001b[39m     plugin_obj = stage_obj[plugin_name]\n\u001b[32m    271\u001b[39m     \u001b[38;5;28;01mreturn\u001b[39;00m plugin_obj.obj.pass_manager(pm_config, optimization_level)\n",
      "\u001b[31mTranspilerError\u001b[39m: 'Invalid plugin name ibm_dynamic_circuits for stage translation'"
     ]
    }
   ],
   "source": [
    "# Transpile and run\n",
    "transpiled = transpile(compiled_circuit, backend, optimization_level=1)\n",
    "qobj = assemble(transpiled)\n",
    "job_ibm = backend.run(qobj)\n",
    "print(\"🚀 Job ID:\", job_ibm.job_id())\n",
    "\n",
    "# Get results\n",
    "job_result_ibm = job_ibm.result()\n",
    "counts_ibm = job_result_ibm.get_counts()\n",
    "print(\"🧪 IBM Quantum Results:\", counts_ibm)\n",
    "plot_histogram(counts_ibm)\n",
    "plt.show()"
   ]
  }
 ],
 "metadata": {
  "kernelspec": {
   "display_name": "qiskit_env",
   "language": "python",
   "name": "python3"
  },
  "language_info": {
   "codemirror_mode": {
    "name": "ipython",
    "version": 3
   },
   "file_extension": ".py",
   "mimetype": "text/x-python",
   "name": "python",
   "nbconvert_exporter": "python",
   "pygments_lexer": "ipython3",
   "version": "3.13.0"
  }
 },
 "nbformat": 4,
 "nbformat_minor": 5
}
