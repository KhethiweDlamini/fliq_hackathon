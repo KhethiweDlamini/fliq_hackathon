{
 "cells": [
  {
   "cell_type": "markdown",
   "id": "6696efed",
   "metadata": {},
   "source": [
    "#🧪 Quantum Random Number Generator (QRNG) – Step-by-Step Tutorial\n",
    "🎯 Objective:\n",
    "Use a simple quantum circuit to generate true randomness using quantum mechanics. We'll construct a quantum random number generator (QRNG) using Qiskit and run it both on a simulator and real IBM quantum hardware."
   ]
  },
  {
   "cell_type": "markdown",
   "id": "d83964d4",
   "metadata": {},
   "source": [
    "# Step 1: Understanding Randomness\n",
    "## What is randomness?\n",
    "Randomness refers to the lack of pattern or predictability. In classical systems, random numbers are often generated using algorithms (pseudo-random), but these can be predicted if the initial conditions (seed) are known (referece).\n",
    "\n",
    "## Why is quantum randomness special?\n",
    "In quantum mechanics, certain measurements are fundamentally unpredictable. For example, if we prepare a qubit in a superposition state and measure it, the result is intrinsically random — not due to lack of knowledge, but due to the nature of quantum physics itself (reference).\n",
    "\n",
    "# Step 2: The Math Behind QRNG\n",
    "Let’s break this down in simple terms:\n",
    "\n",
    "A **qubit** has two basis states:  $$\\lvert 0 \\rangle \\quad \\text{and} \\quad \\lvert 1 \\rangle $$\n",
    "\n",
    "Applying a **Hadamard (H) gate** to $$\\lvert 0 \\rangle\\$$ puts it into a **superposition**: \n",
    "$$\n",
    "H\\lvert 0 \\rangle = \\frac{1}{\\sqrt{2}} \\left( \\lvert 0 \\rangle + \\lvert 1 \\rangle \\right)\n",
    "$$\n",
    "\n",
    "When we **measure** this state, quantum mechanics tells us we’ll get:\n",
    "\n",
    "- 0 with **50% probability**  \n",
    "- 1 with **50% probability**\n",
    "\n",
    "Thus, we can use repeated measurements of this superposition to generate **random bits**."
   ]
  },
  {
   "cell_type": "markdown",
   "id": "1fe29561",
   "metadata": {},
   "source": [
    "Installations and Set-up"
   ]
  },
  {
   "cell_type": "code",
   "execution_count": null,
   "id": "362f5ee9",
   "metadata": {},
   "outputs": [],
   "source": [
    "%pip install qiskit-aer"
   ]
  },
  {
   "cell_type": "code",
   "execution_count": null,
   "id": "31a7abfe-7bc4-4dfd-ac28-54fc4cf41e6d",
   "metadata": {},
   "outputs": [],
   "source": [
    "import qiskit"
   ]
  },
  {
   "cell_type": "code",
   "execution_count": 15,
   "id": "c7b06d7a",
   "metadata": {},
   "outputs": [
    {
     "name": "stdout",
     "output_type": "stream",
     "text": [
      "Qiskit version: 2.0.1\n"
     ]
    }
   ],
   "source": [
    "print(\"Qiskit version:\", qiskit.__version__)"
   ]
  },
  {
   "cell_type": "code",
   "execution_count": 4,
   "id": "49160fe8",
   "metadata": {},
   "outputs": [],
   "source": [
    "from qiskit import QuantumCircuit\n",
    "from qiskit_aer import Aer, AerSimulator\n",
    "from qiskit import transpile \n",
    "from qiskit.visualization import plot_histogram\n",
    "import matplotlib.pyplot as plt\n",
    "\n",
    "# Create a quantum circuit with 1 qubit and 1 classical bit\n",
    "qc = QuantumCircuit(1, 1)\n",
    "\n",
    "# Apply a Hadamard gate to put the qubit into superposition\n",
    "qc.h(0)\n",
    "\n",
    "# Measure the qubit\n",
    "qc.measure(0, 0)\n",
    "\n",
    "# Execute the circuit on the Aer simulator\n",
    "simulator = AerSimulator()\n",
    "compiled_citcuit = transpile(qc, simulator)\n",
    "# Run the circuit\n",
    "job = simulator.run(compiled_citcuit)\n",
    "result = job.result()\n",
    "\n",
    "# Get the counts (number of times each result occurred)\n",
    "counts = result.get_counts(qc)\n",
    "\n",
    "# Plot the results\n",
    "plot_histogram(counts)\n",
    "plt.show(block=False)"
   ]
  }
 ],
 "metadata": {
  "kernelspec": {
   "display_name": "qiskit_env",
   "language": "python",
   "name": "python3"
  },
  "language_info": {
   "codemirror_mode": {
    "name": "ipython",
    "version": 3
   },
   "file_extension": ".py",
   "mimetype": "text/x-python",
   "name": "python",
   "nbconvert_exporter": "python",
   "pygments_lexer": "ipython3",
   "version": "3.13.0"
  }
 },
 "nbformat": 4,
 "nbformat_minor": 5
}
