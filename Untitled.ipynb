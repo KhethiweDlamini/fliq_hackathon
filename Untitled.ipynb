{
 "cells": [
  {
   "cell_type": "markdown",
   "id": "6696efed",
   "metadata": {},
   "source": [
    "#🧪 Quantum Random Number Generator (QRNG) – Step-by-Step Tutorial\n",
    "🎯 Objective:\n",
    "Use a simple quantum circuit to generate true randomness using quantum mechanics. We'll construct a quantum random number generator (QRNG) using Qiskit and run it both on a simulator and real IBM quantum hardware."
   ]
  },
  {
   "cell_type": "markdown",
   "id": "d83964d4",
   "metadata": {},
   "source": [
    "# Step 1: Understanding Randomness\n",
    "## What is randomness?\n",
    "Randomness refers to the lack of pattern or predictability. In classical systems, random numbers are often generated using algorithms (pseudo-random), but these can be predicted if the initial conditions (seed) are known (referece).\n",
    "\n",
    "## Why is quantum randomness special?\n",
    "In quantum mechanics, certain measurements are fundamentally unpredictable. For example, if we prepare a qubit in a superposition state and measure it, the result is intrinsically random — not due to lack of knowledge, but due to the nature of quantum physics itself (reference)."
   ]
  },
  {
   "cell_type": "markdown",
   "id": "d89e9267",
   "metadata": {},
   "source": [
    "# Step 2: The Math Behind QRNG\n",
    "Let’s break this down in simple terms:\n",
    "\n",
    "A **qubit** has two basis states:  $$\\lvert 0 \\rangle \\quad \\text{and} \\quad \\lvert 1 \\rangle $$\n",
    "\n",
    "Applying a **Hadamard (H) gate** to  $$\\lvert 0 \\rangle \\quad $$  puts it into a **superposition**: \n",
    "$$\n",
    "\\lvert 0 \\rangle = \\frac{1}{\\sqrt{2}} \\left( \\lvert 0 \\rangle + \\lvert 1 \\rangle \\right)\n",
    "$$\n",
    "\n",
    "When we **measure** this state, quantum mechanics tells us we’ll get:\n",
    "\n",
    "- 0 with **50% probability**  \n",
    "- 1 with **50% probability**\n",
    "\n",
    "Thus, we can use repeated measurements of this superposition to generate **random bits**."
   ]
  },
  {
   "cell_type": "markdown",
   "id": "e8c7aa99",
   "metadata": {},
   "source": [
    "# Step 3: Let's build the Circuit 🛠️"
   ]
  },
  {
   "cell_type": "markdown",
   "id": "1fe29561",
   "metadata": {},
   "source": [
    "Installations and Set-up"
   ]
  },
  {
   "cell_type": "code",
   "execution_count": 8,
   "id": "362f5ee9",
   "metadata": {},
   "outputs": [
    {
     "name": "stdout",
     "output_type": "stream",
     "text": [
      "Requirement already satisfied: qiskit-aer in c:\\users\\khetiwe dlamini\\qiskit_env\\lib\\site-packages (0.17.0)\n",
      "Requirement already satisfied: qiskit>=1.1.0 in c:\\users\\khetiwe dlamini\\qiskit_env\\lib\\site-packages (from qiskit-aer) (2.0.1)\n",
      "Requirement already satisfied: numpy>=1.16.3 in c:\\users\\khetiwe dlamini\\qiskit_env\\lib\\site-packages (from qiskit-aer) (2.2.6)\n",
      "Requirement already satisfied: scipy>=1.0 in c:\\users\\khetiwe dlamini\\qiskit_env\\lib\\site-packages (from qiskit-aer) (1.15.3)\n",
      "Requirement already satisfied: psutil>=5 in c:\\users\\khetiwe dlamini\\qiskit_env\\lib\\site-packages (from qiskit-aer) (7.0.0)\n",
      "Requirement already satisfied: rustworkx>=0.15.0 in c:\\users\\khetiwe dlamini\\qiskit_env\\lib\\site-packages (from qiskit>=1.1.0->qiskit-aer) (0.16.0)\n",
      "Requirement already satisfied: sympy>=1.3 in c:\\users\\khetiwe dlamini\\qiskit_env\\lib\\site-packages (from qiskit>=1.1.0->qiskit-aer) (1.14.0)\n",
      "Requirement already satisfied: dill>=0.3 in c:\\users\\khetiwe dlamini\\qiskit_env\\lib\\site-packages (from qiskit>=1.1.0->qiskit-aer) (0.4.0)\n",
      "Requirement already satisfied: python-dateutil>=2.8.0 in c:\\users\\khetiwe dlamini\\qiskit_env\\lib\\site-packages (from qiskit>=1.1.0->qiskit-aer) (2.9.0.post0)\n",
      "Requirement already satisfied: stevedore>=3.0.0 in c:\\users\\khetiwe dlamini\\qiskit_env\\lib\\site-packages (from qiskit>=1.1.0->qiskit-aer) (5.4.1)\n",
      "Requirement already satisfied: typing-extensions in c:\\users\\khetiwe dlamini\\qiskit_env\\lib\\site-packages (from qiskit>=1.1.0->qiskit-aer) (4.13.2)\n",
      "Requirement already satisfied: symengine<0.14,>=0.11 in c:\\users\\khetiwe dlamini\\qiskit_env\\lib\\site-packages (from qiskit>=1.1.0->qiskit-aer) (0.13.0)\n",
      "Requirement already satisfied: six>=1.5 in c:\\users\\khetiwe dlamini\\qiskit_env\\lib\\site-packages (from python-dateutil>=2.8.0->qiskit>=1.1.0->qiskit-aer) (1.17.0)\n",
      "Requirement already satisfied: pbr>=2.0.0 in c:\\users\\khetiwe dlamini\\qiskit_env\\lib\\site-packages (from stevedore>=3.0.0->qiskit>=1.1.0->qiskit-aer) (6.1.1)\n",
      "Requirement already satisfied: setuptools in c:\\users\\khetiwe dlamini\\qiskit_env\\lib\\site-packages (from pbr>=2.0.0->stevedore>=3.0.0->qiskit>=1.1.0->qiskit-aer) (80.7.1)\n",
      "Requirement already satisfied: mpmath<1.4,>=1.1.0 in c:\\users\\khetiwe dlamini\\qiskit_env\\lib\\site-packages (from sympy>=1.3->qiskit>=1.1.0->qiskit-aer) (1.3.0)\n",
      "Note: you may need to restart the kernel to use updated packages.\n",
      "Requirement already satisfied: qiskit-ibm-provider in c:\\users\\khetiwe dlamini\\qiskit_env\\lib\\site-packages (0.11.0)\n",
      "Requirement already satisfied: qiskit>=0.45.0 in c:\\users\\khetiwe dlamini\\qiskit_env\\lib\\site-packages (from qiskit-ibm-provider) (2.0.1)\n",
      "Requirement already satisfied: requests>=2.19 in c:\\users\\khetiwe dlamini\\qiskit_env\\lib\\site-packages (from qiskit-ibm-provider) (2.32.3)\n",
      "Requirement already satisfied: requests-ntlm>=1.1.0 in c:\\users\\khetiwe dlamini\\qiskit_env\\lib\\site-packages (from qiskit-ibm-provider) (1.3.0)\n",
      "Requirement already satisfied: numpy>=1.13 in c:\\users\\khetiwe dlamini\\qiskit_env\\lib\\site-packages (from qiskit-ibm-provider) (2.2.6)\n",
      "Requirement already satisfied: urllib3>=1.21.1 in c:\\users\\khetiwe dlamini\\qiskit_env\\lib\\site-packages (from qiskit-ibm-provider) (2.4.0)\n",
      "Requirement already satisfied: python-dateutil>=2.8.0 in c:\\users\\khetiwe dlamini\\qiskit_env\\lib\\site-packages (from qiskit-ibm-provider) (2.9.0.post0)\n",
      "Requirement already satisfied: websocket-client>=1.5.1 in c:\\users\\khetiwe dlamini\\qiskit_env\\lib\\site-packages (from qiskit-ibm-provider) (1.8.0)\n",
      "Requirement already satisfied: websockets>=10.0 in c:\\users\\khetiwe dlamini\\qiskit_env\\lib\\site-packages (from qiskit-ibm-provider) (15.0.1)\n",
      "Requirement already satisfied: typing-extensions>=4.3 in c:\\users\\khetiwe dlamini\\qiskit_env\\lib\\site-packages (from qiskit-ibm-provider) (4.13.2)\n",
      "Requirement already satisfied: six>=1.5 in c:\\users\\khetiwe dlamini\\qiskit_env\\lib\\site-packages (from python-dateutil>=2.8.0->qiskit-ibm-provider) (1.17.0)\n",
      "Requirement already satisfied: rustworkx>=0.15.0 in c:\\users\\khetiwe dlamini\\qiskit_env\\lib\\site-packages (from qiskit>=0.45.0->qiskit-ibm-provider) (0.16.0)\n",
      "Requirement already satisfied: scipy>=1.5 in c:\\users\\khetiwe dlamini\\qiskit_env\\lib\\site-packages (from qiskit>=0.45.0->qiskit-ibm-provider) (1.15.3)\n",
      "Requirement already satisfied: sympy>=1.3 in c:\\users\\khetiwe dlamini\\qiskit_env\\lib\\site-packages (from qiskit>=0.45.0->qiskit-ibm-provider) (1.14.0)\n",
      "Requirement already satisfied: dill>=0.3 in c:\\users\\khetiwe dlamini\\qiskit_env\\lib\\site-packages (from qiskit>=0.45.0->qiskit-ibm-provider) (0.4.0)\n",
      "Requirement already satisfied: stevedore>=3.0.0 in c:\\users\\khetiwe dlamini\\qiskit_env\\lib\\site-packages (from qiskit>=0.45.0->qiskit-ibm-provider) (5.4.1)\n",
      "Requirement already satisfied: symengine<0.14,>=0.11 in c:\\users\\khetiwe dlamini\\qiskit_env\\lib\\site-packages (from qiskit>=0.45.0->qiskit-ibm-provider) (0.13.0)\n",
      "Requirement already satisfied: charset-normalizer<4,>=2 in c:\\users\\khetiwe dlamini\\qiskit_env\\lib\\site-packages (from requests>=2.19->qiskit-ibm-provider) (3.4.2)\n",
      "Requirement already satisfied: idna<4,>=2.5 in c:\\users\\khetiwe dlamini\\qiskit_env\\lib\\site-packages (from requests>=2.19->qiskit-ibm-provider) (3.10)\n",
      "Requirement already satisfied: certifi>=2017.4.17 in c:\\users\\khetiwe dlamini\\qiskit_env\\lib\\site-packages (from requests>=2.19->qiskit-ibm-provider) (2025.4.26)\n",
      "Requirement already satisfied: cryptography>=1.3 in c:\\users\\khetiwe dlamini\\qiskit_env\\lib\\site-packages (from requests-ntlm>=1.1.0->qiskit-ibm-provider) (45.0.1)\n",
      "Requirement already satisfied: pyspnego>=0.4.0 in c:\\users\\khetiwe dlamini\\qiskit_env\\lib\\site-packages (from requests-ntlm>=1.1.0->qiskit-ibm-provider) (0.11.2)\n",
      "Requirement already satisfied: cffi>=1.14 in c:\\users\\khetiwe dlamini\\qiskit_env\\lib\\site-packages (from cryptography>=1.3->requests-ntlm>=1.1.0->qiskit-ibm-provider) (1.17.1)\n",
      "Requirement already satisfied: pycparser in c:\\users\\khetiwe dlamini\\qiskit_env\\lib\\site-packages (from cffi>=1.14->cryptography>=1.3->requests-ntlm>=1.1.0->qiskit-ibm-provider) (2.22)\n",
      "Requirement already satisfied: sspilib>=0.1.0 in c:\\users\\khetiwe dlamini\\qiskit_env\\lib\\site-packages (from pyspnego>=0.4.0->requests-ntlm>=1.1.0->qiskit-ibm-provider) (0.3.1)\n",
      "Requirement already satisfied: pbr>=2.0.0 in c:\\users\\khetiwe dlamini\\qiskit_env\\lib\\site-packages (from stevedore>=3.0.0->qiskit>=0.45.0->qiskit-ibm-provider) (6.1.1)\n",
      "Requirement already satisfied: setuptools in c:\\users\\khetiwe dlamini\\qiskit_env\\lib\\site-packages (from pbr>=2.0.0->stevedore>=3.0.0->qiskit>=0.45.0->qiskit-ibm-provider) (80.7.1)\n",
      "Requirement already satisfied: mpmath<1.4,>=1.1.0 in c:\\users\\khetiwe dlamini\\qiskit_env\\lib\\site-packages (from sympy>=1.3->qiskit>=0.45.0->qiskit-ibm-provider) (1.3.0)\n",
      "Note: you may need to restart the kernel to use updated packages.\n"
     ]
    }
   ],
   "source": [
    "%pip install qiskit-aer\n",
    "%pip install qiskit-ibm-provider"
   ]
  },
  {
   "cell_type": "markdown",
   "id": "fef4195f",
   "metadata": {},
   "source": [
    "pip install qiskit qiskit-ibm-provider --upgrade"
   ]
  },
  {
   "cell_type": "code",
   "execution_count": 9,
   "id": "31a7abfe-7bc4-4dfd-ac28-54fc4cf41e6d",
   "metadata": {},
   "outputs": [],
   "source": [
    "import qiskit"
   ]
  },
  {
   "cell_type": "code",
   "execution_count": 10,
   "id": "c7b06d7a",
   "metadata": {},
   "outputs": [
    {
     "name": "stdout",
     "output_type": "stream",
     "text": [
      "Qiskit version: 2.0.1\n"
     ]
    }
   ],
   "source": [
    "print(\"Qiskit version:\", qiskit.__version__)"
   ]
  },
  {
   "cell_type": "code",
   "execution_count": 16,
   "id": "49160fe8",
   "metadata": {},
   "outputs": [],
   "source": [
    "from qiskit import QuantumCircuit, transpile\n",
    "from qiskit_aer import Aer, AerSimulator\n",
    "from qiskit.visualization import plot_histogram\n",
    "import matplotlib.pyplot as plt"
   ]
  },
  {
   "cell_type": "code",
   "execution_count": null,
   "id": "210c2092",
   "metadata": {},
   "outputs": [],
   "source": [
    "# Load your account\n",
    "from qiskit_ibm_provider import IBMProvider\n",
    "provider = IBMProvider(token='c25376e43e3462db5c36d5b1923ab35b6d477dfe5587177e1920ab0425a05bb4a0b74c2d5235cfa287363cad47f8350ec44a3bacb6135df1926f80e60e35a37d')\n"
   ]
  },
  {
   "cell_type": "code",
   "execution_count": 17,
   "id": "ca9403b7",
   "metadata": {},
   "outputs": [
    {
     "data": {
      "image/png": "[encoded data removed]",
      "text/plain": [
       "<Figure size 269.064x200.667 with 1 Axes>"
      ]
     },
     "execution_count": 17,
     "metadata": {},
     "output_type": "execute_result"
    }
   ],
   "source": [
    "# Step 1: Create a 1-qubit quantum circuit with 1 classical bit\n",
    "qc = QuantumCircuit(1, 1)\n",
    "\n",
    "# Step 2: Apply Hadamard gate to put the qubit in superposition\n",
    "qc.h(0)\n",
    "\n",
    "# Step 3: Measure the qubit\n",
    "qc.measure(0, 0)\n",
    "\n",
    "# Visualize the circuit\n",
    "qc.draw('mpl')"
   ]
  },
  {
   "cell_type": "markdown",
   "id": "dd632202",
   "metadata": {},
   "source": [
    "# Executing the Circuit on a Simulator\n",
    "Let’s test the QRNG on a noiseless simulator."
   ]
  },
  {
   "cell_type": "code",
   "execution_count": null,
   "id": "3cc2d6a5",
   "metadata": {},
   "outputs": [
    {
     "name": "stdout",
     "output_type": "stream",
     "text": [
      "Measurement results: {'1': 512, '0': 512}\n"
     ]
    }
   ],
   "source": [
    "# Use Aer's simulator\n",
    "simulator = AerSimulator()\n",
    "\n",
    "# Assemble and execute the circuit\n",
    "compiled_circuit = transpile(qc, simulator)\n",
    "job = simulator.run(compiled_circuit)\n",
    "result = job.result()\n",
    "\n",
    "# Get and plot the counts\n",
    "counts = result.get_counts(qc)\n",
    "print(\"Measurement results:\", counts)"
   ]
  },
  {
   "cell_type": "code",
   "execution_count": 22,
   "id": "9354407a",
   "metadata": {},
   "outputs": [
    {
     "data": {
      "image/png": "[encoded data removed]",
      "text/plain": [
       "<Figure size 640x480 with 1 Axes>"
      ]
     },
     "metadata": {},
     "output_type": "display_data"
    }
   ],
   "source": [
    "%matplotlib inline\n",
    "plot_histogram(counts)\n",
    "plt.show()"
   ]
  },
  {
   "cell_type": "markdown",
   "id": "cf7c5525",
   "metadata": {},
   "source": [
    "🔍 Expected Output: A histogram with roughly 50% zeros and 50% ones — demonstrating true quantum randomness!"
   ]
  },
  {
   "cell_type": "markdown",
   "id": "e565ee1a",
   "metadata": {},
   "source": [
    "### Common Confusions (Anticipated & Addressed)\n",
    "\n",
    "| Confusion | Clarification |\n",
    "|-----------|---------------|\n",
    "| **“How is this different from a coin toss?”** | A coin toss is classical — it's determined by physics, even if unpredictable in practice. Quantum measurement is inherently probabilistic. |\n",
    "| **“Why do I need a Hadamard gate?”** | Without it, the qubit stays in state \\(\\lvert 0 \\rangle\\). The Hadamard gate creates the necessary superposition for randomness. |\n",
    "| **“Why do results vary?”** | Quantum randomness is real — each run gives different outcomes. You should expect slightly uneven results due to statistical fluctuations. |\n",
    "| **“Why does real hardware show bias?”** | Quantum devices are noisy; real-world errors (gate fidelity, decoherence) can skew ideal outcomes slightly. We’ll explore this in the hardware section. |\n"
   ]
  }
 ],
 "metadata": {
  "kernelspec": {
   "display_name": "qiskit_env",
   "language": "python",
   "name": "python3"
  },
  "language_info": {
   "codemirror_mode": {
    "name": "ipython",
    "version": 3
   },
   "file_extension": ".py",
   "mimetype": "text/x-python",
   "name": "python",
   "nbconvert_exporter": "python",
   "pygments_lexer": "ipython3",
   "version": "3.13.0"
  }
 },
 "nbformat": 4,
 "nbformat_minor": 5
}
